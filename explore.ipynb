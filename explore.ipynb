{
 "cells": [
  {
   "cell_type": "markdown",
   "metadata": {},
   "source": [
    "# Analyse [ontology-mapping-chatbot](https://github.com/opendatasoft/ontology-mapping-chatbot)"
   ]
  },
  {
   "cell_type": "markdown",
   "metadata": {},
   "source": [
    "## Preparations\n",
    "\n",
    "After cloning the [project](https://github.com/opendatasoft/ontology-mapping-chatbot) in a local directory and doing the necessary installation following the `README` of the project we can run the application at http://127.0.0.1:8000/.\n",
    "(Change `DEBUG = True` in `chatbot_app/settings.py` if it is complaining.) We are then able to import the `roman-emperors@public` and do the mapping in the UI.\n",
    "\n",
    "In order to be able to call modules and examin individual aspects of the app we copy the complete project to the homedirectory of our notebook."
   ]
  },
  {
   "cell_type": "code",
   "execution_count": 4,
   "metadata": {},
   "outputs": [],
   "source": [
    "!cp -R ../ontology-mapping-chatbot/ ."
   ]
  },
  {
   "cell_type": "code",
   "execution_count": 6,
   "metadata": {},
   "outputs": [
    {
     "name": "stdout",
     "output_type": "stream",
     "text": [
      "total 56\n",
      "-rw-r--r--   1 ecco  staff  1069 Mar  9 12:26 LICENSE\n",
      "-rw-r--r--   1 ecco  staff  7452 Mar  9 12:26 README.md\n",
      "drwxr-xr-x  12 ecco  staff   384 Mar  9 12:26 \u001b[34mchat\u001b[m\u001b[m\n",
      "drwxr-xr-x   6 ecco  staff   192 Mar  9 12:26 \u001b[34mchatbot\u001b[m\u001b[m\n",
      "drwxr-xr-x   9 ecco  staff   288 Mar  9 12:27 \u001b[34mchatbot_app\u001b[m\u001b[m\n",
      "drwxr-xr-x   6 ecco  staff   192 Mar  9 12:26 \u001b[34mdata_dumps\u001b[m\u001b[m\n",
      "-rw-r--r--   1 ecco  staff  1364 Mar  9 12:40 explore.ipynb\n",
      "drwxr-xr-x   4 ecco  staff   128 Mar  9 12:26 \u001b[34mimg\u001b[m\u001b[m\n",
      "-rwxr-xr-x   1 ecco  staff   373 Mar  9 12:26 \u001b[31minstall.sh\u001b[m\u001b[m\n",
      "drwxr-xr-x   4 ecco  staff   128 Mar  9 12:26 \u001b[34mlogs\u001b[m\u001b[m\n",
      "-rwxr-xr-x   1 ecco  staff   809 Mar  9 12:26 \u001b[31mmanage.py\u001b[m\u001b[m\n",
      "-rw-r--r--   1 ecco  staff   179 Mar  9 12:26 requirements.txt\n",
      "drwxr-xr-x   4 ecco  staff   128 Mar  9 12:26 \u001b[34mresults\u001b[m\u001b[m\n",
      "drwxr-xr-x   4 ecco  staff   128 Mar  9 12:26 \u001b[34mtests\u001b[m\u001b[m\n",
      "drwxr-xr-x  15 ecco  staff   480 Mar  9 12:26 \u001b[34mutils\u001b[m\u001b[m\n"
     ]
    }
   ],
   "source": [
    "!ls -l"
   ]
  },
  {
   "cell_type": "markdown",
   "metadata": {},
   "source": [
    "We also have the datadumps which were put there when we ran `install.sh`."
   ]
  },
  {
   "cell_type": "code",
   "execution_count": 10,
   "metadata": {},
   "outputs": [
    {
     "name": "stdout",
     "output_type": "stream",
     "text": [
      "total 527944\n",
      "-rw-r--r--  1 ecco  staff  162329691 Mar  9 12:26 instance_type.hdt\n",
      "-rw-r--r--  1 ecco  staff  107974152 Mar  9 12:26 instance_type.hdt.index.v1-1\n"
     ]
    }
   ],
   "source": [
    "ls -l data_dumps/dbpedia/en"
   ]
  },
  {
   "cell_type": "markdown",
   "metadata": {},
   "source": [
    "We can now import individual modules in our notebook environment.\n",
    "\n",
    "The modules use settings in the `chatbot_app/settings`. We can mimic the django configuration by setting an environment variable."
   ]
  },
  {
   "cell_type": "code",
   "execution_count": 165,
   "metadata": {},
   "outputs": [],
   "source": [
    "import os\n",
    "import json\n",
    "from IPython.display import HTML\n",
    "from IPython.display import JSON\n",
    "\n",
    "from hdt import HDTDocument\n",
    "from django.utils.encoding import smart_str\n",
    "from collections import Counter\n",
    "\n",
    "# imports from ontology-mapping-chatbot\n",
    "import chatbot_app.settings as settings\n",
    "import utils.ods_catalog_api as ODSCatalogApi\n",
    "import utils.ods_dataset_api as ODSDatasetApi\n",
    "import chatbot.semantic_engine as SemanticEngine\n",
    "import utils.dbpedia_ner as DBPediaNER\n",
    "import utils.lov_ods_api as LovApi\n",
    "\n",
    "# set the environment variable\n",
    "os.environ['DJANGO_SETTINGS_MODULE'] = 'chatbot_app.settings'"
   ]
  },
  {
   "cell_type": "markdown",
   "metadata": {},
   "source": [
    "## Get data\n",
    "From the api-handler in `chat.views.correspondance_api.get_correspondances` and its dependencies we learn...\n",
    "```python\n",
    "@require_http_methods(['GET'])\n",
    "def get_correspondances(request, dataset_id):\n",
    "    logging.getLogger(\"results_logger\").info(\"[{}] Starting semantization\".format(dataset_id))\n",
    "    ods_dataset_metas = ODSCatalogApi.dataset_meta_request(dataset_id)\n",
    "    ods_dataset_records = ODSDatasetApi.dataset_records_request(dataset_id, settings.RECORD_NUMBER)['records']\n",
    "    correspondances = SemanticEngine.init_correspondances_set(ods_dataset_metas, ods_dataset_records)\n",
    "    if not correspondances.get('classes'):\n",
    "        logging.getLogger(\"results_logger\").info(\"[{}] No correspondances found\".format(dataset_id))\n",
    "    logging.getLogger(\"results_logger\").info(\"[{}] Starting semantization\".format(dataset_id))\n",
    "    response = HttpResponse(\n",
    "        json.dumps(correspondances),\n",
    "        content_type='application/json')\n",
    "    response['Access-Control-Allow-Origin'] = '*'\n",
    "    return response\n",
    "```\n",
    "- ... that a dataset metadata can be obtained from https://data.opendatasoft.com/api/datasets/1.0/roman-emperors@public. \n",
    "- ... that an amount of records from that dataset can be obtained from https://data.opendatasoft.com/api/records/1.0/search/?dataset=roman-emperors@public&rows=50\n",
    "\n",
    "Lets download our first input-data."
   ]
  },
  {
   "cell_type": "code",
   "execution_count": 46,
   "metadata": {},
   "outputs": [],
   "source": [
    "dataset_id = 'roman-emperors@public'"
   ]
  },
  {
   "cell_type": "markdown",
   "metadata": {},
   "source": [
    "### Metadata on the dataset"
   ]
  },
  {
   "cell_type": "code",
   "execution_count": 15,
   "metadata": {},
   "outputs": [
    {
     "data": {
      "text/plain": [
       "\u001b[0;31mSignature:\u001b[0m \u001b[0mODSCatalogApi\u001b[0m\u001b[0;34m.\u001b[0m\u001b[0mdataset_meta_request\u001b[0m\u001b[0;34m(\u001b[0m\u001b[0mdataset_id\u001b[0m\u001b[0;34m)\u001b[0m\u001b[0;34m\u001b[0m\u001b[0;34m\u001b[0m\u001b[0m\n",
       "\u001b[0;31mDocstring:\u001b[0m <no docstring>\n",
       "\u001b[0;31mSource:\u001b[0m   \n",
       "\u001b[0;32mdef\u001b[0m \u001b[0mdataset_meta_request\u001b[0m\u001b[0;34m(\u001b[0m\u001b[0mdataset_id\u001b[0m\u001b[0;34m)\u001b[0m\u001b[0;34m:\u001b[0m\u001b[0;34m\u001b[0m\n",
       "\u001b[0;34m\u001b[0m    \u001b[0;32mif\u001b[0m \u001b[0mdataset_id\u001b[0m\u001b[0;34m:\u001b[0m\u001b[0;34m\u001b[0m\n",
       "\u001b[0;34m\u001b[0m        \u001b[0mparams\u001b[0m \u001b[0;34m=\u001b[0m \u001b[0;34m{\u001b[0m\u001b[0;34m'apikey'\u001b[0m\u001b[0;34m:\u001b[0m \u001b[0msettings\u001b[0m\u001b[0;34m.\u001b[0m\u001b[0mDATA_API_KEY\u001b[0m\u001b[0;34m}\u001b[0m\u001b[0;34m\u001b[0m\n",
       "\u001b[0;34m\u001b[0m        \u001b[0mrequest\u001b[0m \u001b[0;34m=\u001b[0m \u001b[0mrequests\u001b[0m\u001b[0;34m.\u001b[0m\u001b[0mget\u001b[0m\u001b[0;34m(\u001b[0m\u001b[0mDATA_CATALOG_API_URL\u001b[0m\u001b[0;34m.\u001b[0m\u001b[0mformat\u001b[0m\u001b[0;34m(\u001b[0m\u001b[0mdataset_id\u001b[0m\u001b[0;34m)\u001b[0m\u001b[0;34m,\u001b[0m \u001b[0mparams\u001b[0m\u001b[0;34m,\u001b[0m \u001b[0mtimeout\u001b[0m\u001b[0;34m=\u001b[0m\u001b[0mRequester\u001b[0m\u001b[0;34m.\u001b[0m\u001b[0mget_timeout\u001b[0m\u001b[0;34m(\u001b[0m\u001b[0;34m)\u001b[0m\u001b[0;34m,\u001b[0m \u001b[0mheaders\u001b[0m\u001b[0;34m=\u001b[0m\u001b[0mRequester\u001b[0m\u001b[0;34m.\u001b[0m\u001b[0mcreate_ods_headers\u001b[0m\u001b[0;34m(\u001b[0m\u001b[0;34m)\u001b[0m\u001b[0;34m)\u001b[0m\u001b[0;34m\u001b[0m\n",
       "\u001b[0;34m\u001b[0m        \u001b[0mrequest\u001b[0m\u001b[0;34m.\u001b[0m\u001b[0mraise_for_status\u001b[0m\u001b[0;34m(\u001b[0m\u001b[0;34m)\u001b[0m\u001b[0;34m\u001b[0m\n",
       "\u001b[0;34m\u001b[0m        \u001b[0;32mreturn\u001b[0m \u001b[0mrequest\u001b[0m\u001b[0;34m.\u001b[0m\u001b[0mjson\u001b[0m\u001b[0;34m(\u001b[0m\u001b[0;34m)\u001b[0m\u001b[0;34m\u001b[0m\n",
       "\u001b[0;34m\u001b[0m    \u001b[0;32melse\u001b[0m\u001b[0;34m:\u001b[0m\u001b[0;34m\u001b[0m\n",
       "\u001b[0;34m\u001b[0m        \u001b[0;32mraise\u001b[0m \u001b[0mDatasetIdMissing\u001b[0m\u001b[0;34m\u001b[0m\u001b[0;34m\u001b[0m\u001b[0m\n",
       "\u001b[0;31mFile:\u001b[0m      ~/git/ontmap/utils/ods_catalog_api.py\n",
       "\u001b[0;31mType:\u001b[0m      function\n"
      ]
     },
     "metadata": {},
     "output_type": "display_data"
    }
   ],
   "source": [
    "ODSCatalogApi.dataset_meta_request??"
   ]
  },
  {
   "cell_type": "code",
   "execution_count": 33,
   "metadata": {},
   "outputs": [
    {
     "data": {
      "text/plain": [
       "dict"
      ]
     },
     "execution_count": 33,
     "metadata": {},
     "output_type": "execute_result"
    }
   ],
   "source": [
    "ods_dataset_metas = ODSCatalogApi.dataset_meta_request(dataset_id)\n",
    "type(ods_dataset_metas)"
   ]
  },
  {
   "cell_type": "code",
   "execution_count": 43,
   "metadata": {},
   "outputs": [
    {
     "data": {
      "text/html": [
       "<a href=\"https://github.com/zonination/emperors/blob/master/LICENSE.md\" target=\"_blank\">license of the dataset</a>"
      ],
      "text/plain": [
       "<IPython.core.display.HTML object>"
      ]
     },
     "execution_count": 43,
     "metadata": {},
     "output_type": "execute_result"
    }
   ],
   "source": [
    "HTML('<a href=\"{}\" target=\"_blank\">license of the dataset</a>'.format(ods_dataset_metas['metas']['license']))"
   ]
  },
  {
   "cell_type": "markdown",
   "metadata": {},
   "source": [
    "Before we do a copyright infringement!! :<br/>\n",
    "All fragments showing portions of the dataset *roman-emperors@public*: <span style=\"color: red;\">**Copyright (c) 2016 Zoni Nation**</span>"
   ]
  },
  {
   "cell_type": "code",
   "execution_count": 44,
   "metadata": {},
   "outputs": [
    {
     "data": {
      "text/plain": [
       "['Roman', 'Empire', 'Emperor', 'Reign', 'History']"
      ]
     },
     "execution_count": 44,
     "metadata": {},
     "output_type": "execute_result"
    }
   ],
   "source": [
    "ods_dataset_metas['metas']['keyword'] # etc."
   ]
  },
  {
   "cell_type": "markdown",
   "metadata": {},
   "source": [
    "See full metadata: https://data.opendatasoft.com/api/datasets/1.0/roman-emperors@public"
   ]
  },
  {
   "cell_type": "markdown",
   "metadata": {},
   "source": [
    "### Get the dataset"
   ]
  },
  {
   "cell_type": "code",
   "execution_count": 51,
   "metadata": {},
   "outputs": [
    {
     "data": {
      "text/plain": [
       "\u001b[0;31mSignature:\u001b[0m \u001b[0mODSDatasetApi\u001b[0m\u001b[0;34m.\u001b[0m\u001b[0mdataset_records_request\u001b[0m\u001b[0;34m(\u001b[0m\u001b[0mdataset_id\u001b[0m\u001b[0;34m,\u001b[0m \u001b[0mrows\u001b[0m\u001b[0;34m=\u001b[0m\u001b[0;36m10\u001b[0m\u001b[0;34m)\u001b[0m\u001b[0;34m\u001b[0m\u001b[0;34m\u001b[0m\u001b[0m\n",
       "\u001b[0;31mDocstring:\u001b[0m <no docstring>\n",
       "\u001b[0;31mSource:\u001b[0m   \n",
       "\u001b[0;32mdef\u001b[0m \u001b[0mdataset_records_request\u001b[0m\u001b[0;34m(\u001b[0m\u001b[0mdataset_id\u001b[0m\u001b[0;34m,\u001b[0m \u001b[0mrows\u001b[0m\u001b[0;34m=\u001b[0m\u001b[0;36m10\u001b[0m\u001b[0;34m)\u001b[0m\u001b[0;34m:\u001b[0m\u001b[0;34m\u001b[0m\n",
       "\u001b[0;34m\u001b[0m    \u001b[0;32mif\u001b[0m \u001b[0mdataset_id\u001b[0m\u001b[0;34m:\u001b[0m\u001b[0;34m\u001b[0m\n",
       "\u001b[0;34m\u001b[0m        \u001b[0mparams\u001b[0m \u001b[0;34m=\u001b[0m \u001b[0;34m{\u001b[0m\u001b[0;34m'dataset'\u001b[0m\u001b[0;34m:\u001b[0m \u001b[0mdataset_id\u001b[0m\u001b[0;34m,\u001b[0m \u001b[0;34m'rows'\u001b[0m\u001b[0;34m:\u001b[0m \u001b[0mrows\u001b[0m\u001b[0;34m,\u001b[0m \u001b[0;34m'apikey'\u001b[0m\u001b[0;34m:\u001b[0m \u001b[0msettings\u001b[0m\u001b[0;34m.\u001b[0m\u001b[0mDATA_API_KEY\u001b[0m\u001b[0;34m}\u001b[0m\u001b[0;34m\u001b[0m\n",
       "\u001b[0;34m\u001b[0m        \u001b[0mrequest\u001b[0m \u001b[0;34m=\u001b[0m \u001b[0mrequests\u001b[0m\u001b[0;34m.\u001b[0m\u001b[0mget\u001b[0m\u001b[0;34m(\u001b[0m\u001b[0mDATA_RECORD_API_URL\u001b[0m\u001b[0;34m,\u001b[0m \u001b[0mparams\u001b[0m\u001b[0;34m,\u001b[0m \u001b[0mtimeout\u001b[0m\u001b[0;34m=\u001b[0m\u001b[0mRequester\u001b[0m\u001b[0;34m.\u001b[0m\u001b[0mget_timeout\u001b[0m\u001b[0;34m(\u001b[0m\u001b[0;34m)\u001b[0m\u001b[0;34m,\u001b[0m \u001b[0mheaders\u001b[0m\u001b[0;34m=\u001b[0m\u001b[0mRequester\u001b[0m\u001b[0;34m.\u001b[0m\u001b[0mcreate_ods_headers\u001b[0m\u001b[0;34m(\u001b[0m\u001b[0;34m)\u001b[0m\u001b[0;34m)\u001b[0m\u001b[0;34m\u001b[0m\n",
       "\u001b[0;34m\u001b[0m        \u001b[0mrequest\u001b[0m\u001b[0;34m.\u001b[0m\u001b[0mraise_for_status\u001b[0m\u001b[0;34m(\u001b[0m\u001b[0;34m)\u001b[0m\u001b[0;34m\u001b[0m\n",
       "\u001b[0;34m\u001b[0m        \u001b[0;32mreturn\u001b[0m \u001b[0mrequest\u001b[0m\u001b[0;34m.\u001b[0m\u001b[0mjson\u001b[0m\u001b[0;34m(\u001b[0m\u001b[0;34m)\u001b[0m\u001b[0;34m\u001b[0m\n",
       "\u001b[0;34m\u001b[0m    \u001b[0;32melse\u001b[0m\u001b[0;34m:\u001b[0m\u001b[0;34m\u001b[0m\n",
       "\u001b[0;34m\u001b[0m        \u001b[0;32mraise\u001b[0m \u001b[0mDatasetIdMissing\u001b[0m\u001b[0;34m\u001b[0m\u001b[0;34m\u001b[0m\u001b[0m\n",
       "\u001b[0;31mFile:\u001b[0m      ~/git/ontmap/utils/ods_dataset_api.py\n",
       "\u001b[0;31mType:\u001b[0m      function\n"
      ]
     },
     "metadata": {},
     "output_type": "display_data"
    }
   ],
   "source": [
    "ODSDatasetApi.dataset_records_request??"
   ]
  },
  {
   "cell_type": "code",
   "execution_count": 49,
   "metadata": {},
   "outputs": [
    {
     "data": {
      "text/plain": [
       "50"
      ]
     },
     "execution_count": 49,
     "metadata": {},
     "output_type": "execute_result"
    }
   ],
   "source": [
    "settings.RECORD_NUMBER"
   ]
  },
  {
   "cell_type": "code",
   "execution_count": 50,
   "metadata": {},
   "outputs": [
    {
     "data": {
      "text/plain": [
       "list"
      ]
     },
     "execution_count": 50,
     "metadata": {},
     "output_type": "execute_result"
    }
   ],
   "source": [
    "ods_dataset_records = ODSDatasetApi.dataset_records_request(dataset_id, settings.RECORD_NUMBER)['records']\n",
    "type(ods_dataset_records)"
   ]
  },
  {
   "cell_type": "code",
   "execution_count": 53,
   "metadata": {},
   "outputs": [
    {
     "data": {
      "text/plain": [
       "50"
      ]
     },
     "execution_count": 53,
     "metadata": {},
     "output_type": "execute_result"
    }
   ],
   "source": [
    "len(ods_dataset_records)"
   ]
  },
  {
   "cell_type": "code",
   "execution_count": 167,
   "metadata": {},
   "outputs": [
    {
     "data": {
      "application/json": {
       "datasetid": "roman-emperors@public",
       "fields": {
        "birth": "0041-11-16T00:00:00+00:00",
        "birth_cty": "Rome",
        "birth_prv": "Italia",
        "cause": "Assassination",
        "death": "0037-03-16T00:00:00+00:00",
        "dynasty": "Julio-Claudian",
        "era": "Principate",
        "image": {
         "color_summary": [
          "rgba(135, 97, 90, 1.00)",
          "rgba(131, 98, 89, 1.00)",
          "rgba(125, 106, 103, 1.00)"
         ],
         "etag": "2a20909ef466b75ddcc6fc641f947d2a",
         "filename": "Tiberius_NyCarlsberg01.jpg",
         "format": "JPEG",
         "height": 2093,
         "id": "8a3bf3637985407b3d99e8e9d598f964",
         "last_synchronized": "2017-12-31T22:00:12.157396",
         "mimetype": "image/jpeg",
         "thumbnail": true,
         "width": 1492
        },
        "index": "2",
        "killer": "Other Emperor",
        "name": "Tiberius",
        "name_full": "TIBERIVS CAESAR DIVI AVGVSTI FILIVS AVGVSTVS",
        "notes": "birth is BCE. Assign negative for correct ISO 8601 dates. Possibly assassinated by praetorian guard",
        "reign_end": "0037-03-16T00:00:00+00:00",
        "reign_start": "0014-09-18T00:00:00+00:00",
        "rise": "Birthright",
        "verif_who": "Reddit user zonination"
       },
       "record_timestamp": "2019-01-01T19:29:40+00:00",
       "recordid": "a11d01a3b3cf8d24b16fce8749cece22a27efb10"
      },
      "text/plain": [
       "<IPython.core.display.JSON object>"
      ]
     },
     "metadata": {
      "application/json": {
       "expanded": false,
       "root": "root"
      }
     },
     "output_type": "display_data"
    }
   ],
   "source": [
    "display(JSON(ods_dataset_records[0]))"
   ]
  },
  {
   "cell_type": "code",
   "execution_count": 58,
   "metadata": {},
   "outputs": [
    {
     "name": "stdout",
     "output_type": "stream",
     "text": [
      "The death cause of emperor TIBERIVS CAESAR DIVI AVGVSTI FILIVS AVGVSTVS was Assassination.\n"
     ]
    }
   ],
   "source": [
    "print('The death cause of emperor {} was {}.'.format(ods_dataset_records[0]['fields']['name_full'], ods_dataset_records[0]['fields']['cause']))"
   ]
  },
  {
   "cell_type": "markdown",
   "metadata": {},
   "source": [
    "See full record set: https://data.opendatasoft.com/api/records/1.0/search/?dataset=roman-emperors@public&rows=50"
   ]
  },
  {
   "cell_type": "markdown",
   "metadata": {},
   "source": [
    "## Get correspondances"
   ]
  },
  {
   "cell_type": "code",
   "execution_count": 60,
   "metadata": {},
   "outputs": [
    {
     "data": {
      "text/plain": [
       "\u001b[0;31mSignature:\u001b[0m\n",
       "\u001b[0mSemanticEngine\u001b[0m\u001b[0;34m.\u001b[0m\u001b[0minit_correspondances_set\u001b[0m\u001b[0;34m(\u001b[0m\u001b[0;34m\u001b[0m\n",
       "\u001b[0;34m\u001b[0m    \u001b[0;34m[\u001b[0m\u001b[0;34m'ods_dataset_metas'\u001b[0m\u001b[0;34m,\u001b[0m \u001b[0;34m'ods_dataset_records'\u001b[0m\u001b[0;34m]\u001b[0m\u001b[0;34m,\u001b[0m\u001b[0;34m\u001b[0m\n",
       "\u001b[0;34m\u001b[0m\u001b[0;34m)\u001b[0m\u001b[0;34m\u001b[0m\u001b[0;34m\u001b[0m\u001b[0m\n",
       "\u001b[0;31mDocstring:\u001b[0m <no docstring>\n",
       "\u001b[0;31mSource:\u001b[0m   \n",
       "\u001b[0;32mdef\u001b[0m \u001b[0minit_correspondances_set\u001b[0m\u001b[0;34m(\u001b[0m\u001b[0mods_dataset_metas\u001b[0m\u001b[0;34m,\u001b[0m \u001b[0mods_dataset_records\u001b[0m\u001b[0;34m)\u001b[0m\u001b[0;34m:\u001b[0m\u001b[0;34m\u001b[0m\n",
       "\u001b[0;34m\u001b[0m    \u001b[0mlanguage\u001b[0m \u001b[0;34m=\u001b[0m \u001b[0mget_dataset_language\u001b[0m\u001b[0;34m(\u001b[0m\u001b[0mods_dataset_metas\u001b[0m\u001b[0;34m)\u001b[0m\u001b[0;34m\u001b[0m\n",
       "\u001b[0;34m\u001b[0m    \u001b[0mcandidate_correspondances\u001b[0m \u001b[0;34m=\u001b[0m \u001b[0;34m{\u001b[0m\u001b[0;34m'classes'\u001b[0m\u001b[0;34m:\u001b[0m \u001b[0mget_dataset_classes\u001b[0m\u001b[0;34m(\u001b[0m\u001b[0mods_dataset_records\u001b[0m\u001b[0;34m,\u001b[0m \u001b[0mods_dataset_metas\u001b[0m\u001b[0;34m,\u001b[0m \u001b[0mlanguage\u001b[0m\u001b[0;34m)\u001b[0m\u001b[0;34m,\u001b[0m\u001b[0;34m\u001b[0m\n",
       "\u001b[0;34m\u001b[0m                                 \u001b[0;34m'properties'\u001b[0m\u001b[0;34m:\u001b[0m \u001b[0mget_dataset_properties\u001b[0m\u001b[0;34m(\u001b[0m\u001b[0mods_dataset_metas\u001b[0m\u001b[0;34m)\u001b[0m\u001b[0;34m}\u001b[0m\u001b[0;34m\u001b[0m\n",
       "\u001b[0;34m\u001b[0m    \u001b[0;32mreturn\u001b[0m \u001b[0mcandidate_correspondances\u001b[0m\u001b[0;34m\u001b[0m\u001b[0;34m\u001b[0m\u001b[0m\n",
       "\u001b[0;31mFile:\u001b[0m      ~/git/ontmap/chatbot/semantic_engine.py\n",
       "\u001b[0;31mType:\u001b[0m      function\n"
      ]
     },
     "metadata": {},
     "output_type": "display_data"
    }
   ],
   "source": [
    "SemanticEngine.init_correspondances_set??"
   ]
  },
  {
   "cell_type": "code",
   "execution_count": 61,
   "metadata": {},
   "outputs": [],
   "source": [
    "correspondances = SemanticEngine.init_correspondances_set(ods_dataset_metas, ods_dataset_records)"
   ]
  },
  {
   "cell_type": "code",
   "execution_count": 62,
   "metadata": {},
   "outputs": [
    {
     "data": {
      "text/plain": [
       "dict"
      ]
     },
     "execution_count": 62,
     "metadata": {},
     "output_type": "execute_result"
    }
   ],
   "source": [
    "type(correspondances)"
   ]
  },
  {
   "cell_type": "code",
   "execution_count": 65,
   "metadata": {},
   "outputs": [
    {
     "data": {
      "text/plain": [
       "{'classes': [{'uri': 'http://schema.org/Place',\n",
       "   'class': 'Place',\n",
       "   'description': b'Place',\n",
       "   'sub': ['http://rdfs.co/juso/SpatialThing', 'http://schema.org/Thing'],\n",
       "   'eq': ['http://purl.org/goodrelations/v1#Location'],\n",
       "   'label': 'Birth City',\n",
       "   'field_name': 'birth_cty'},\n",
       "  {'uri': 'http://schema.org/Person',\n",
       "   'class': 'Person',\n",
       "   'description': b'A person.',\n",
       "   'sub': ['http://purl.org/dc/terms/Agent',\n",
       "    'http://purl.org/goodrelations/v1#BusinessEntity',\n",
       "    'http://rhizomik.net/ontologies/copyrightonto.owl#LegalPerson',\n",
       "    'http://schema.org/Thing',\n",
       "    'http://www.w3.org/2000/10/swap/pim/contact#Person',\n",
       "    'http://www.w3.org/2003/01/geo/wgs84_pos#SpatialThing',\n",
       "    'http://xmlns.com/foaf/0.1/Agent',\n",
       "    'http://xmlns.com/foaf/0.1/Person'],\n",
       "   'eq': ['http://www.w3.org/2000/10/swap/pim/contact#Person',\n",
       "    'http://xmlns.com/foaf/0.1/Person'],\n",
       "   'label': 'Name',\n",
       "   'field_name': 'name'},\n",
       "  {'uri': 'http://schema.org/Place',\n",
       "   'class': 'Place',\n",
       "   'description': b'Place',\n",
       "   'sub': ['http://rdfs.co/juso/SpatialThing', 'http://schema.org/Thing'],\n",
       "   'eq': ['http://purl.org/goodrelations/v1#Location'],\n",
       "   'label': 'Birth Province',\n",
       "   'field_name': 'birth_prv'},\n",
       "  {'uri': 'http://dbpedia.org/ontology/Image',\n",
       "   'class': 'Image',\n",
       "   'description': b'A document that contains a visual image',\n",
       "   'sub': ['http://dbpedia.org/ontology/Document'],\n",
       "   'eq': [],\n",
       "   'label': 'Image',\n",
       "   'field_name': 'image'}],\n",
       " 'properties': [{'uri': 'http://schema.org/name',\n",
       "   'description': b'A name.',\n",
       "   'sub': [],\n",
       "   'eq': [],\n",
       "   'label': 'Name',\n",
       "   'field_name': 'name',\n",
       "   'type': 'text'},\n",
       "  {'uri': 'http://dbpedia.org/ontology/birthDate',\n",
       "   'description': b'birth date',\n",
       "   'sub': [],\n",
       "   'eq': [],\n",
       "   'label': 'Birth',\n",
       "   'field_name': 'birth',\n",
       "   'type': 'datetime'},\n",
       "  {'uri': 'http://dbpedia.org/ontology/deathDate',\n",
       "   'description': b'death date',\n",
       "   'sub': [],\n",
       "   'eq': [],\n",
       "   'label': 'Death',\n",
       "   'field_name': 'death',\n",
       "   'type': 'datetime'},\n",
       "  {'uri': 'http://dbpedia.org/ontology/dynasty',\n",
       "   'description': b'dynasty',\n",
       "   'sub': [],\n",
       "   'eq': [],\n",
       "   'label': 'Dynasty',\n",
       "   'field_name': 'dynasty',\n",
       "   'type': 'text'},\n",
       "  {'uri': 'http://dbpedia.org/ontology/era',\n",
       "   'description': b'era',\n",
       "   'sub': ['http://www.ontologydesignpatterns.org/ont/dul/DUL.owl#isDescribedBy'],\n",
       "   'eq': ['http://www.ontologydesignpatterns.org/ont/dul/DUL.owl#isDescribedBy'],\n",
       "   'label': 'Era',\n",
       "   'field_name': 'era',\n",
       "   'type': 'text'},\n",
       "  {'uri': 'http://dbpedia.org/ontology/notes',\n",
       "   'description': 'notes',\n",
       "   'sub': [],\n",
       "   'eq': [],\n",
       "   'label': 'Notes',\n",
       "   'field_name': 'notes',\n",
       "   'type': 'text'},\n",
       "  {'uri': 'http://schema.org/image',\n",
       "   'description': 'image',\n",
       "   'sub': [],\n",
       "   'eq': [],\n",
       "   'label': 'Image',\n",
       "   'field_name': 'image',\n",
       "   'type': 'file'}]}"
      ]
     },
     "execution_count": 65,
     "metadata": {},
     "output_type": "execute_result"
    }
   ],
   "source": [
    "correspondances"
   ]
  },
  {
   "cell_type": "markdown",
   "metadata": {},
   "source": [
    "`correspondances` contains 2 dicts: *classes* and *properties*. So, where is this comming from?"
   ]
  },
  {
   "cell_type": "markdown",
   "metadata": {},
   "source": [
    "### Correspondance classes\n",
    "\n",
    "Classes from the `correspondances` dict are looked up by querying the HDT-documents in `data_dumps`."
   ]
  },
  {
   "cell_type": "code",
   "execution_count": 66,
   "metadata": {},
   "outputs": [
    {
     "data": {
      "text/plain": [
       "\u001b[0;31mSignature:\u001b[0m \u001b[0mSemanticEngine\u001b[0m\u001b[0;34m.\u001b[0m\u001b[0mget_dataset_language\u001b[0m\u001b[0;34m(\u001b[0m\u001b[0mods_dataset_metas\u001b[0m\u001b[0;34m)\u001b[0m\u001b[0;34m\u001b[0m\u001b[0;34m\u001b[0m\u001b[0m\n",
       "\u001b[0;31mDocstring:\u001b[0m <no docstring>\n",
       "\u001b[0;31mSource:\u001b[0m   \n",
       "\u001b[0;32mdef\u001b[0m \u001b[0mget_dataset_language\u001b[0m\u001b[0;34m(\u001b[0m\u001b[0mods_dataset_metas\u001b[0m\u001b[0;34m)\u001b[0m\u001b[0;34m:\u001b[0m\u001b[0;34m\u001b[0m\n",
       "\u001b[0;34m\u001b[0m    \u001b[0;32mif\u001b[0m \u001b[0;34m'metas'\u001b[0m \u001b[0;32min\u001b[0m \u001b[0mods_dataset_metas\u001b[0m\u001b[0;34m:\u001b[0m\u001b[0;34m\u001b[0m\n",
       "\u001b[0;34m\u001b[0m        \u001b[0;32mif\u001b[0m \u001b[0;34m'language'\u001b[0m \u001b[0;32min\u001b[0m \u001b[0mods_dataset_metas\u001b[0m\u001b[0;34m[\u001b[0m\u001b[0;34m'metas'\u001b[0m\u001b[0;34m]\u001b[0m\u001b[0;34m:\u001b[0m\u001b[0;34m\u001b[0m\n",
       "\u001b[0;34m\u001b[0m            \u001b[0;32mreturn\u001b[0m \u001b[0mods_dataset_metas\u001b[0m\u001b[0;34m[\u001b[0m\u001b[0;34m'metas'\u001b[0m\u001b[0;34m]\u001b[0m\u001b[0;34m[\u001b[0m\u001b[0;34m'language'\u001b[0m\u001b[0;34m]\u001b[0m\u001b[0;34m\u001b[0m\n",
       "\u001b[0;34m\u001b[0m    \u001b[0;32mreturn\u001b[0m \u001b[0;34m'eng'\u001b[0m\u001b[0;34m\u001b[0m\u001b[0;34m\u001b[0m\u001b[0m\n",
       "\u001b[0;31mFile:\u001b[0m      ~/git/ontmap/chatbot/semantic_engine.py\n",
       "\u001b[0;31mType:\u001b[0m      function\n"
      ]
     },
     "metadata": {},
     "output_type": "display_data"
    }
   ],
   "source": [
    "SemanticEngine.get_dataset_language??"
   ]
  },
  {
   "cell_type": "markdown",
   "metadata": {},
   "source": [
    "It looks up the language in the metadata, otherwise assumes it is 'eng'."
   ]
  },
  {
   "cell_type": "code",
   "execution_count": 67,
   "metadata": {},
   "outputs": [
    {
     "data": {
      "text/plain": [
       "\u001b[0;31mSignature:\u001b[0m\n",
       "\u001b[0mSemanticEngine\u001b[0m\u001b[0;34m.\u001b[0m\u001b[0mget_dataset_classes\u001b[0m\u001b[0;34m(\u001b[0m\u001b[0;34m\u001b[0m\n",
       "\u001b[0;34m\u001b[0m    \u001b[0;34m[\u001b[0m\u001b[0;34m'ods_dataset_records'\u001b[0m\u001b[0;34m,\u001b[0m \u001b[0;34m'ods_dataset_metas'\u001b[0m\u001b[0;34m,\u001b[0m \u001b[0;34m\"language='en'\"\u001b[0m\u001b[0;34m]\u001b[0m\u001b[0;34m,\u001b[0m\u001b[0;34m\u001b[0m\n",
       "\u001b[0;34m\u001b[0m\u001b[0;34m)\u001b[0m\u001b[0;34m\u001b[0m\u001b[0;34m\u001b[0m\u001b[0m\n",
       "\u001b[0;31mDocstring:\u001b[0m <no docstring>\n",
       "\u001b[0;31mSource:\u001b[0m   \n",
       "\u001b[0;32mdef\u001b[0m \u001b[0mget_dataset_classes\u001b[0m\u001b[0;34m(\u001b[0m\u001b[0mods_dataset_records\u001b[0m\u001b[0;34m,\u001b[0m \u001b[0mods_dataset_metas\u001b[0m\u001b[0;34m,\u001b[0m \u001b[0mlanguage\u001b[0m\u001b[0;34m=\u001b[0m\u001b[0;34m'en'\u001b[0m\u001b[0;34m)\u001b[0m\u001b[0;34m:\u001b[0m\u001b[0;34m\u001b[0m\n",
       "\u001b[0;34m\u001b[0m    \u001b[0mcandidates_classes\u001b[0m \u001b[0;34m=\u001b[0m \u001b[0;34m{\u001b[0m\u001b[0;34m}\u001b[0m\u001b[0;34m\u001b[0m\n",
       "\u001b[0;34m\u001b[0m    \u001b[0;31m# Search classes using Named Entity Recognition on instances\u001b[0m\u001b[0;34m\u001b[0m\n",
       "\u001b[0;34m\u001b[0m    \u001b[0;32mfor\u001b[0m \u001b[0mrecord\u001b[0m \u001b[0;32min\u001b[0m \u001b[0mods_dataset_records\u001b[0m\u001b[0;34m:\u001b[0m\u001b[0;34m\u001b[0m\n",
       "\u001b[0;34m\u001b[0m        \u001b[0;32mfor\u001b[0m \u001b[0mfield\u001b[0m\u001b[0;34m,\u001b[0m \u001b[0mvalue\u001b[0m \u001b[0;32min\u001b[0m \u001b[0mrecord\u001b[0m\u001b[0;34m[\u001b[0m\u001b[0;34m'fields'\u001b[0m\u001b[0;34m]\u001b[0m\u001b[0;34m.\u001b[0m\u001b[0mitems\u001b[0m\u001b[0;34m(\u001b[0m\u001b[0;34m)\u001b[0m\u001b[0;34m:\u001b[0m\u001b[0;34m\u001b[0m\n",
       "\u001b[0;34m\u001b[0m            \u001b[0;32mif\u001b[0m \u001b[0mhasNoNumbers\u001b[0m\u001b[0;34m(\u001b[0m\u001b[0mvalue\u001b[0m\u001b[0;34m)\u001b[0m\u001b[0;34m:\u001b[0m\u001b[0;34m\u001b[0m\n",
       "\u001b[0;34m\u001b[0m                \u001b[0mtypes\u001b[0m \u001b[0;34m=\u001b[0m \u001b[0mDBPediaNER\u001b[0m\u001b[0;34m.\u001b[0m\u001b[0mentity_types_request\u001b[0m\u001b[0;34m(\u001b[0m\u001b[0mvalue\u001b[0m\u001b[0;34m,\u001b[0m \u001b[0mlanguage\u001b[0m\u001b[0;34m)\u001b[0m\u001b[0;34m\u001b[0m\n",
       "\u001b[0;34m\u001b[0m                \u001b[0;32mif\u001b[0m \u001b[0;32mnot\u001b[0m \u001b[0mtypes\u001b[0m\u001b[0;34m:\u001b[0m\u001b[0;34m\u001b[0m\n",
       "\u001b[0;34m\u001b[0m                    \u001b[0;31m# DBPedia could not find any class for this field\u001b[0m\u001b[0;34m\u001b[0m\n",
       "\u001b[0;34m\u001b[0m                    \u001b[0mtypes\u001b[0m \u001b[0;34m=\u001b[0m \u001b[0mYagoNER\u001b[0m\u001b[0;34m.\u001b[0m\u001b[0mentity_types_request\u001b[0m\u001b[0;34m(\u001b[0m\u001b[0mvalue\u001b[0m\u001b[0;34m,\u001b[0m \u001b[0mlanguage\u001b[0m\u001b[0;34m)\u001b[0m\u001b[0;34m\u001b[0m\n",
       "\u001b[0;34m\u001b[0m                \u001b[0;32mif\u001b[0m \u001b[0mtypes\u001b[0m\u001b[0;34m:\u001b[0m\u001b[0;34m\u001b[0m\n",
       "\u001b[0;34m\u001b[0m                    \u001b[0;32mif\u001b[0m \u001b[0mfield\u001b[0m \u001b[0;32min\u001b[0m \u001b[0mcandidates_classes\u001b[0m\u001b[0;34m:\u001b[0m\u001b[0;34m\u001b[0m\n",
       "\u001b[0;34m\u001b[0m                        \u001b[0mcandidates_classes\u001b[0m\u001b[0;34m[\u001b[0m\u001b[0mfield\u001b[0m\u001b[0;34m]\u001b[0m\u001b[0;34m.\u001b[0m\u001b[0mextend\u001b[0m\u001b[0;34m(\u001b[0m\u001b[0mtypes\u001b[0m\u001b[0;34m)\u001b[0m\u001b[0;34m\u001b[0m\n",
       "\u001b[0;34m\u001b[0m                    \u001b[0;32melse\u001b[0m\u001b[0;34m:\u001b[0m\u001b[0;34m\u001b[0m\n",
       "\u001b[0;34m\u001b[0m                        \u001b[0mcandidates_classes\u001b[0m\u001b[0;34m[\u001b[0m\u001b[0mfield\u001b[0m\u001b[0;34m]\u001b[0m \u001b[0;34m=\u001b[0m \u001b[0mtypes\u001b[0m\u001b[0;34m\u001b[0m\n",
       "\u001b[0;34m\u001b[0m    \u001b[0mcorrespondances\u001b[0m \u001b[0;34m=\u001b[0m \u001b[0;34m[\u001b[0m\u001b[0;34m]\u001b[0m\u001b[0;34m\u001b[0m\n",
       "\u001b[0;34m\u001b[0m    \u001b[0;32mfor\u001b[0m \u001b[0mfield\u001b[0m\u001b[0;34m,\u001b[0m \u001b[0mclasses\u001b[0m \u001b[0;32min\u001b[0m \u001b[0mcandidates_classes\u001b[0m\u001b[0;34m.\u001b[0m\u001b[0mitems\u001b[0m\u001b[0;34m(\u001b[0m\u001b[0;34m)\u001b[0m\u001b[0;34m:\u001b[0m\u001b[0;34m\u001b[0m\n",
       "\u001b[0;34m\u001b[0m        \u001b[0mcommon_class\u001b[0m \u001b[0;34m=\u001b[0m \u001b[0mCounter\u001b[0m\u001b[0;34m(\u001b[0m\u001b[0mclasses\u001b[0m\u001b[0;34m)\u001b[0m\u001b[0;34m.\u001b[0m\u001b[0mmost_common\u001b[0m\u001b[0;34m(\u001b[0m\u001b[0;36m1\u001b[0m\u001b[0;34m)\u001b[0m\u001b[0;34m[\u001b[0m\u001b[0;36m0\u001b[0m\u001b[0;34m]\u001b[0m\u001b[0;34m[\u001b[0m\u001b[0;36m0\u001b[0m\u001b[0;34m]\u001b[0m\u001b[0;34m\u001b[0m\n",
       "\u001b[0;34m\u001b[0m        \u001b[0mcommon_class\u001b[0m \u001b[0;34m=\u001b[0m \u001b[0msmart_str\u001b[0m\u001b[0;34m(\u001b[0m\u001b[0mcommon_class\u001b[0m\u001b[0;34m)\u001b[0m\u001b[0;34m\u001b[0m\n",
       "\u001b[0;34m\u001b[0m        \u001b[0mclass_correspondance\u001b[0m \u001b[0;34m=\u001b[0m \u001b[0mget_class_correspondance\u001b[0m\u001b[0;34m(\u001b[0m\u001b[0mcommon_class\u001b[0m\u001b[0;34m,\u001b[0m \u001b[0mlanguage\u001b[0m\u001b[0;34m)\u001b[0m\u001b[0;34m\u001b[0m\n",
       "\u001b[0;34m\u001b[0m        \u001b[0;32mif\u001b[0m \u001b[0mclass_correspondance\u001b[0m\u001b[0;34m:\u001b[0m\u001b[0;34m\u001b[0m\n",
       "\u001b[0;34m\u001b[0m            \u001b[0mfield_meta\u001b[0m \u001b[0;34m=\u001b[0m \u001b[0mget_field\u001b[0m\u001b[0;34m(\u001b[0m\u001b[0mods_dataset_metas\u001b[0m\u001b[0;34m,\u001b[0m \u001b[0mfield\u001b[0m\u001b[0;34m)\u001b[0m\u001b[0;34m\u001b[0m\n",
       "\u001b[0;34m\u001b[0m            \u001b[0mclass_correspondance\u001b[0m\u001b[0;34m[\u001b[0m\u001b[0;34m'label'\u001b[0m\u001b[0;34m]\u001b[0m \u001b[0;34m=\u001b[0m \u001b[0mfield\u001b[0m\u001b[0;34m\u001b[0m\n",
       "\u001b[0;34m\u001b[0m            \u001b[0;32mif\u001b[0m \u001b[0mfield_meta\u001b[0m \u001b[0;32mand\u001b[0m \u001b[0mfield_meta\u001b[0m\u001b[0;34m[\u001b[0m\u001b[0;34m'label'\u001b[0m\u001b[0;34m]\u001b[0m\u001b[0;34m:\u001b[0m\u001b[0;34m\u001b[0m\n",
       "\u001b[0;34m\u001b[0m                \u001b[0mclass_correspondance\u001b[0m\u001b[0;34m[\u001b[0m\u001b[0;34m'label'\u001b[0m\u001b[0;34m]\u001b[0m \u001b[0;34m=\u001b[0m \u001b[0mfield_meta\u001b[0m\u001b[0;34m[\u001b[0m\u001b[0;34m'label'\u001b[0m\u001b[0;34m]\u001b[0m\u001b[0;34m\u001b[0m\n",
       "\u001b[0;34m\u001b[0m            \u001b[0mclass_correspondance\u001b[0m\u001b[0;34m[\u001b[0m\u001b[0;34m'field_name'\u001b[0m\u001b[0;34m]\u001b[0m \u001b[0;34m=\u001b[0m \u001b[0mfield\u001b[0m\u001b[0;34m\u001b[0m\n",
       "\u001b[0;34m\u001b[0m            \u001b[0mcorrespondances\u001b[0m\u001b[0;34m.\u001b[0m\u001b[0mappend\u001b[0m\u001b[0;34m(\u001b[0m\u001b[0mclass_correspondance\u001b[0m\u001b[0;34m)\u001b[0m\u001b[0;34m\u001b[0m\n",
       "\u001b[0;34m\u001b[0m    \u001b[0;31m# Search classes using field name\u001b[0m\u001b[0;34m\u001b[0m\n",
       "\u001b[0;34m\u001b[0m    \u001b[0;32mfor\u001b[0m \u001b[0mfield\u001b[0m \u001b[0;32min\u001b[0m \u001b[0mods_dataset_metas\u001b[0m\u001b[0;34m[\u001b[0m\u001b[0;34m'fields'\u001b[0m\u001b[0;34m]\u001b[0m\u001b[0;34m:\u001b[0m\u001b[0;34m\u001b[0m\n",
       "\u001b[0;34m\u001b[0m        \u001b[0;32mif\u001b[0m \u001b[0mfield\u001b[0m\u001b[0;34m[\u001b[0m\u001b[0;34m'name'\u001b[0m\u001b[0;34m]\u001b[0m \u001b[0;32mnot\u001b[0m \u001b[0;32min\u001b[0m \u001b[0mcandidates_classes\u001b[0m\u001b[0;34m:\u001b[0m\u001b[0;34m\u001b[0m\n",
       "\u001b[0;34m\u001b[0m            \u001b[0mfield_name\u001b[0m \u001b[0;34m=\u001b[0m \u001b[0msmart_str\u001b[0m\u001b[0;34m(\u001b[0m\u001b[0mfield\u001b[0m\u001b[0;34m[\u001b[0m\u001b[0;34m'label'\u001b[0m\u001b[0;34m]\u001b[0m\u001b[0;34m)\u001b[0m\u001b[0;34m\u001b[0m\n",
       "\u001b[0;34m\u001b[0m            \u001b[0mfield_name\u001b[0m \u001b[0;34m=\u001b[0m \u001b[0menrich_field\u001b[0m\u001b[0;34m(\u001b[0m\u001b[0mfield\u001b[0m\u001b[0;34m[\u001b[0m\u001b[0;34m'type'\u001b[0m\u001b[0;34m]\u001b[0m\u001b[0;34m,\u001b[0m \u001b[0mfield_name\u001b[0m\u001b[0;34m)\u001b[0m\u001b[0;34m\u001b[0m\n",
       "\u001b[0;34m\u001b[0m            \u001b[0mclass_correspondance\u001b[0m \u001b[0;34m=\u001b[0m \u001b[0mget_class_correspondance\u001b[0m\u001b[0;34m(\u001b[0m\u001b[0mfield_name\u001b[0m\u001b[0;34m,\u001b[0m \u001b[0mlanguage\u001b[0m\u001b[0;34m)\u001b[0m\u001b[0;34m\u001b[0m\n",
       "\u001b[0;34m\u001b[0m            \u001b[0;32mif\u001b[0m \u001b[0mclass_correspondance\u001b[0m\u001b[0;34m:\u001b[0m\u001b[0;34m\u001b[0m\n",
       "\u001b[0;34m\u001b[0m                \u001b[0mclass_correspondance\u001b[0m\u001b[0;34m[\u001b[0m\u001b[0;34m'label'\u001b[0m\u001b[0;34m]\u001b[0m \u001b[0;34m=\u001b[0m \u001b[0mfield\u001b[0m\u001b[0;34m[\u001b[0m\u001b[0;34m'label'\u001b[0m\u001b[0;34m]\u001b[0m\u001b[0;34m\u001b[0m\n",
       "\u001b[0;34m\u001b[0m                \u001b[0mclass_correspondance\u001b[0m\u001b[0;34m[\u001b[0m\u001b[0;34m'field_name'\u001b[0m\u001b[0;34m]\u001b[0m \u001b[0;34m=\u001b[0m \u001b[0mfield\u001b[0m\u001b[0;34m[\u001b[0m\u001b[0;34m'name'\u001b[0m\u001b[0;34m]\u001b[0m\u001b[0;34m\u001b[0m\n",
       "\u001b[0;34m\u001b[0m                \u001b[0mcorrespondances\u001b[0m\u001b[0;34m.\u001b[0m\u001b[0mappend\u001b[0m\u001b[0;34m(\u001b[0m\u001b[0mclass_correspondance\u001b[0m\u001b[0;34m)\u001b[0m\u001b[0;34m\u001b[0m\n",
       "\u001b[0;34m\u001b[0m    \u001b[0;32mreturn\u001b[0m \u001b[0mcorrespondances\u001b[0m\u001b[0;34m\u001b[0m\u001b[0;34m\u001b[0m\u001b[0m\n",
       "\u001b[0;31mFile:\u001b[0m      ~/git/ontmap/chatbot/semantic_engine.py\n",
       "\u001b[0;31mType:\u001b[0m      function\n"
      ]
     },
     "metadata": {},
     "output_type": "display_data"
    }
   ],
   "source": [
    "SemanticEngine.get_dataset_classes??"
   ]
  },
  {
   "cell_type": "markdown",
   "metadata": {},
   "source": [
    "For each *record* in `ods_dataset_records`, for each *field* and *value* in *record* `fields`, if *value* has no numbers, look up in DBPedia or Yago.<bf/>\n",
    "Let's do that:"
   ]
  },
  {
   "cell_type": "code",
   "execution_count": 71,
   "metadata": {},
   "outputs": [
    {
     "data": {
      "text/plain": [
       "\u001b[0;31mSignature:\u001b[0m \u001b[0mDBPediaNER\u001b[0m\u001b[0;34m.\u001b[0m\u001b[0mentity_types_request\u001b[0m\u001b[0;34m(\u001b[0m\u001b[0mquery\u001b[0m\u001b[0;34m,\u001b[0m \u001b[0mlanguage\u001b[0m\u001b[0;34m=\u001b[0m\u001b[0;34m'en'\u001b[0m\u001b[0;34m)\u001b[0m\u001b[0;34m\u001b[0m\u001b[0;34m\u001b[0m\u001b[0m\n",
       "\u001b[0;31mDocstring:\u001b[0m <no docstring>\n",
       "\u001b[0;31mSource:\u001b[0m   \n",
       "\u001b[0;32mdef\u001b[0m \u001b[0mentity_types_request\u001b[0m\u001b[0;34m(\u001b[0m\u001b[0mquery\u001b[0m\u001b[0;34m,\u001b[0m \u001b[0mlanguage\u001b[0m\u001b[0;34m=\u001b[0m\u001b[0;34m'en'\u001b[0m\u001b[0;34m)\u001b[0m\u001b[0;34m:\u001b[0m\u001b[0;34m\u001b[0m\n",
       "\u001b[0;34m\u001b[0m    \u001b[0;32mif\u001b[0m \u001b[0mquery\u001b[0m\u001b[0;34m:\u001b[0m\u001b[0;34m\u001b[0m\n",
       "\u001b[0;34m\u001b[0m        \u001b[0mquery\u001b[0m \u001b[0;34m=\u001b[0m \u001b[0mquery\u001b[0m\u001b[0;34m.\u001b[0m\u001b[0mencode\u001b[0m\u001b[0;34m(\u001b[0m\u001b[0;34m\"utf-8\"\u001b[0m\u001b[0;34m)\u001b[0m\u001b[0;34m\u001b[0m\n",
       "\u001b[0;34m\u001b[0m        \u001b[0mquery\u001b[0m \u001b[0;34m=\u001b[0m \u001b[0mto_dbpedia_format\u001b[0m\u001b[0;34m(\u001b[0m\u001b[0mquery\u001b[0m\u001b[0;34m)\u001b[0m\u001b[0;34m\u001b[0m\n",
       "\u001b[0;34m\u001b[0m        \u001b[0;32mif\u001b[0m \u001b[0mlanguage\u001b[0m \u001b[0;34m==\u001b[0m \u001b[0;34m'fr'\u001b[0m\u001b[0;34m:\u001b[0m\u001b[0;34m\u001b[0m\n",
       "\u001b[0;34m\u001b[0m            \u001b[0msubject_query_fr\u001b[0m \u001b[0;34m=\u001b[0m \u001b[0mFR_DBPEDIA_RESOURCE_URI\u001b[0m\u001b[0;34m.\u001b[0m\u001b[0mformat\u001b[0m\u001b[0;34m(\u001b[0m\u001b[0mresource_name\u001b[0m\u001b[0;34m=\u001b[0m\u001b[0mquery\u001b[0m\u001b[0;34m)\u001b[0m\u001b[0;34m\u001b[0m\n",
       "\u001b[0;34m\u001b[0m            \u001b[0;34m(\u001b[0m\u001b[0mtriples\u001b[0m\u001b[0;34m,\u001b[0m \u001b[0mcardinality\u001b[0m\u001b[0;34m)\u001b[0m \u001b[0;34m=\u001b[0m \u001b[0mfr_dbpedia\u001b[0m\u001b[0;34m.\u001b[0m\u001b[0msearch_triples\u001b[0m\u001b[0;34m(\u001b[0m\u001b[0msubject_query_fr\u001b[0m\u001b[0;34m,\u001b[0m \u001b[0;34m\"\"\u001b[0m\u001b[0;34m,\u001b[0m \u001b[0;34m\"\"\u001b[0m\u001b[0;34m)\u001b[0m\u001b[0;34m\u001b[0m\n",
       "\u001b[0;34m\u001b[0m        \u001b[0;32melse\u001b[0m\u001b[0;34m:\u001b[0m\u001b[0;34m\u001b[0m\n",
       "\u001b[0;34m\u001b[0m            \u001b[0msubject_query\u001b[0m \u001b[0;34m=\u001b[0m \u001b[0mDBPEDIA_RESOURCE_URI\u001b[0m\u001b[0;34m.\u001b[0m\u001b[0mformat\u001b[0m\u001b[0;34m(\u001b[0m\u001b[0mresource_name\u001b[0m\u001b[0;34m=\u001b[0m\u001b[0mquery\u001b[0m\u001b[0;34m)\u001b[0m\u001b[0;34m\u001b[0m\n",
       "\u001b[0;34m\u001b[0m            \u001b[0;34m(\u001b[0m\u001b[0mtriples\u001b[0m\u001b[0;34m,\u001b[0m \u001b[0mcardinality\u001b[0m\u001b[0;34m)\u001b[0m \u001b[0;34m=\u001b[0m \u001b[0meng_dbpedia\u001b[0m\u001b[0;34m.\u001b[0m\u001b[0msearch_triples\u001b[0m\u001b[0;34m(\u001b[0m\u001b[0msubject_query\u001b[0m\u001b[0;34m,\u001b[0m \u001b[0;34m\"\"\u001b[0m\u001b[0;34m,\u001b[0m \u001b[0;34m\"\"\u001b[0m\u001b[0;34m)\u001b[0m\u001b[0;34m\u001b[0m\n",
       "\u001b[0;34m\u001b[0m        \u001b[0mclasses\u001b[0m \u001b[0;34m=\u001b[0m \u001b[0;34m[\u001b[0m\u001b[0;34m]\u001b[0m\u001b[0;34m\u001b[0m\n",
       "\u001b[0;34m\u001b[0m        \u001b[0;32mfor\u001b[0m \u001b[0mtriple\u001b[0m \u001b[0;32min\u001b[0m \u001b[0mtriples\u001b[0m\u001b[0;34m:\u001b[0m\u001b[0;34m\u001b[0m\n",
       "\u001b[0;34m\u001b[0m            \u001b[0mcl\u001b[0m \u001b[0;34m=\u001b[0m \u001b[0mget_uri_suffix\u001b[0m\u001b[0;34m(\u001b[0m\u001b[0mtriple\u001b[0m\u001b[0;34m[\u001b[0m\u001b[0;36m2\u001b[0m\u001b[0;34m]\u001b[0m\u001b[0;34m)\u001b[0m\u001b[0;34m\u001b[0m\n",
       "\u001b[0;34m\u001b[0m            \u001b[0;32mif\u001b[0m \u001b[0;32mnot\u001b[0m \u001b[0mis_ignored\u001b[0m\u001b[0;34m(\u001b[0m\u001b[0mcl\u001b[0m\u001b[0;34m)\u001b[0m\u001b[0;34m:\u001b[0m\u001b[0;34m\u001b[0m\n",
       "\u001b[0;34m\u001b[0m                \u001b[0mclasses\u001b[0m\u001b[0;34m.\u001b[0m\u001b[0mappend\u001b[0m\u001b[0;34m(\u001b[0m\u001b[0mcl\u001b[0m\u001b[0;34m)\u001b[0m\u001b[0;34m\u001b[0m\n",
       "\u001b[0;34m\u001b[0m        \u001b[0;32mif\u001b[0m \u001b[0mclasses\u001b[0m\u001b[0;34m:\u001b[0m\u001b[0;34m\u001b[0m\n",
       "\u001b[0;34m\u001b[0m            \u001b[0;32mreturn\u001b[0m \u001b[0mclasses\u001b[0m\u001b[0;34m\u001b[0m\n",
       "\u001b[0;34m\u001b[0m    \u001b[0;32mreturn\u001b[0m \u001b[0;32mNone\u001b[0m\u001b[0;34m\u001b[0m\u001b[0;34m\u001b[0m\u001b[0m\n",
       "\u001b[0;31mFile:\u001b[0m      ~/git/ontmap/utils/dbpedia_ner.py\n",
       "\u001b[0;31mType:\u001b[0m      function\n"
      ]
     },
     "metadata": {},
     "output_type": "display_data"
    }
   ],
   "source": [
    "DBPediaNER.entity_types_request??"
   ]
  },
  {
   "cell_type": "code",
   "execution_count": 76,
   "metadata": {},
   "outputs": [
    {
     "data": {
      "text/plain": [
       "['Location', 'Place', 'PopulatedPlace', 'Place']"
      ]
     },
     "execution_count": 76,
     "metadata": {},
     "output_type": "execute_result"
    }
   ],
   "source": [
    "query = 'Rome'\n",
    "language = 'en'\n",
    "types = DBPediaNER.entity_types_request(value, language)\n",
    "types"
   ]
  },
  {
   "cell_type": "markdown",
   "metadata": {},
   "source": [
    "#### Correspondance classes from a method ..."
   ]
  },
  {
   "cell_type": "code",
   "execution_count": 124,
   "metadata": {},
   "outputs": [],
   "source": [
    "DBPEDIA_RESOURCE_URI = \"http://dbpedia.org/resource/{resource_name}\"\n",
    "eng_dbpedia = HDTDocument(\"data_dumps/dbpedia/en/instance_type.hdt\")\n",
    "\n",
    "def get_classes(value):\n",
    "    query = value.encode(\"utf-8\")\n",
    "    query = query.decode().title()\n",
    "    query = query.replace(' ', '_')\n",
    "    subject_query = DBPEDIA_RESOURCE_URI.format(resource_name=query)\n",
    "    print('subject_query=\"{}\"'.format(subject_query))\n",
    "    return [x for x in eng_dbpedia.search_triples(subject_query, \"\", \"\")[0]]"
   ]
  },
  {
   "cell_type": "code",
   "execution_count": 125,
   "metadata": {},
   "outputs": [
    {
     "name": "stdout",
     "output_type": "stream",
     "text": [
      "subject_query=\"http://dbpedia.org/resource/Rome\"\n"
     ]
    },
    {
     "data": {
      "text/plain": [
       "[('http://dbpedia.org/resource/Rome',\n",
       "  'http://www.w3.org/1999/02/22-rdf-syntax-ns#type',\n",
       "  'http://dbpedia.org/ontology/Location'),\n",
       " ('http://dbpedia.org/resource/Rome',\n",
       "  'http://www.w3.org/1999/02/22-rdf-syntax-ns#type',\n",
       "  'http://dbpedia.org/ontology/Place'),\n",
       " ('http://dbpedia.org/resource/Rome',\n",
       "  'http://www.w3.org/1999/02/22-rdf-syntax-ns#type',\n",
       "  'http://dbpedia.org/ontology/PopulatedPlace'),\n",
       " ('http://dbpedia.org/resource/Rome',\n",
       "  'http://www.w3.org/1999/02/22-rdf-syntax-ns#type',\n",
       "  'http://schema.org/Place'),\n",
       " ('http://dbpedia.org/resource/Rome',\n",
       "  'http://www.w3.org/1999/02/22-rdf-syntax-ns#type',\n",
       "  'http://www.w3.org/2002/07/owl#Thing'),\n",
       " ('http://dbpedia.org/resource/Rome',\n",
       "  'http://www.w3.org/1999/02/22-rdf-syntax-ns#type',\n",
       "  'http://www.wikidata.org/entity/Q486972')]"
      ]
     },
     "execution_count": 125,
     "metadata": {},
     "output_type": "execute_result"
    }
   ],
   "source": [
    "get_classes('Rome')"
   ]
  },
  {
   "cell_type": "code",
   "execution_count": 127,
   "metadata": {},
   "outputs": [
    {
     "name": "stdout",
     "output_type": "stream",
     "text": [
      "subject_query=\"http://dbpedia.org/resource/The_Hague\"\n"
     ]
    },
    {
     "data": {
      "text/plain": [
       "[('http://dbpedia.org/resource/The_Hague',\n",
       "  'http://www.w3.org/1999/02/22-rdf-syntax-ns#type',\n",
       "  'http://dbpedia.org/ontology/Location'),\n",
       " ('http://dbpedia.org/resource/The_Hague',\n",
       "  'http://www.w3.org/1999/02/22-rdf-syntax-ns#type',\n",
       "  'http://dbpedia.org/ontology/Place'),\n",
       " ('http://dbpedia.org/resource/The_Hague',\n",
       "  'http://www.w3.org/1999/02/22-rdf-syntax-ns#type',\n",
       "  'http://dbpedia.org/ontology/PopulatedPlace'),\n",
       " ('http://dbpedia.org/resource/The_Hague',\n",
       "  'http://www.w3.org/1999/02/22-rdf-syntax-ns#type',\n",
       "  'http://dbpedia.org/ontology/Settlement'),\n",
       " ('http://dbpedia.org/resource/The_Hague',\n",
       "  'http://www.w3.org/1999/02/22-rdf-syntax-ns#type',\n",
       "  'http://schema.org/City'),\n",
       " ('http://dbpedia.org/resource/The_Hague',\n",
       "  'http://www.w3.org/1999/02/22-rdf-syntax-ns#type',\n",
       "  'http://schema.org/Place'),\n",
       " ('http://dbpedia.org/resource/The_Hague',\n",
       "  'http://www.w3.org/1999/02/22-rdf-syntax-ns#type',\n",
       "  'http://www.w3.org/2002/07/owl#Thing'),\n",
       " ('http://dbpedia.org/resource/The_Hague',\n",
       "  'http://www.w3.org/1999/02/22-rdf-syntax-ns#type',\n",
       "  'http://www.wikidata.org/entity/Q486972'),\n",
       " ('http://dbpedia.org/resource/The_Hague',\n",
       "  'http://www.w3.org/1999/02/22-rdf-syntax-ns#type',\n",
       "  'http://www.wikidata.org/entity/Q515')]"
      ]
     },
     "execution_count": 127,
     "metadata": {},
     "output_type": "execute_result"
    }
   ],
   "source": [
    "get_classes('The Hague')"
   ]
  },
  {
   "cell_type": "code",
   "execution_count": 110,
   "metadata": {},
   "outputs": [
    {
     "data": {
      "text/plain": [
       "<HDTDocument data_dumps/dbpedia/en/instance_type.hdt (~31254270 RDF triples)>"
      ]
     },
     "execution_count": 110,
     "metadata": {},
     "output_type": "execute_result"
    }
   ],
   "source": [
    "eng_dbpedia"
   ]
  },
  {
   "cell_type": "code",
   "execution_count": 138,
   "metadata": {},
   "outputs": [
    {
     "name": "stdout",
     "output_type": "stream",
     "text": [
      "subject_query=\"http://dbpedia.org/resource/Arthur\"\n"
     ]
    },
    {
     "data": {
      "text/plain": [
       "[('http://dbpedia.org/resource/Arthur',\n",
       "  'http://www.w3.org/1999/02/22-rdf-syntax-ns#type',\n",
       "  'http://dbpedia.org/ontology/Name'),\n",
       " ('http://dbpedia.org/resource/Arthur',\n",
       "  'http://www.w3.org/1999/02/22-rdf-syntax-ns#type',\n",
       "  'http://www.w3.org/2002/07/owl#Thing'),\n",
       " ('http://dbpedia.org/resource/Arthur',\n",
       "  'http://www.w3.org/1999/02/22-rdf-syntax-ns#type',\n",
       "  'http://www.wikidata.org/entity/Q202444'),\n",
       " ('http://dbpedia.org/resource/Arthur',\n",
       "  'http://www.w3.org/1999/02/22-rdf-syntax-ns#type',\n",
       "  'http://www.wikidata.org/entity/Q82799')]"
      ]
     },
     "execution_count": 138,
     "metadata": {},
     "output_type": "execute_result"
    }
   ],
   "source": [
    "get_classes('arthur')"
   ]
  },
  {
   "cell_type": "code",
   "execution_count": 150,
   "metadata": {},
   "outputs": [
    {
     "name": "stdout",
     "output_type": "stream",
     "text": [
      "subject_query=\"http://dbpedia.org/resource/George_Washington\"\n"
     ]
    },
    {
     "data": {
      "text/plain": [
       "[('http://dbpedia.org/resource/George_Washington',\n",
       "  'http://www.w3.org/1999/02/22-rdf-syntax-ns#type',\n",
       "  'http://dbpedia.org/ontology/Agent'),\n",
       " ('http://dbpedia.org/resource/George_Washington',\n",
       "  'http://www.w3.org/1999/02/22-rdf-syntax-ns#type',\n",
       "  'http://dbpedia.org/ontology/Person'),\n",
       " ('http://dbpedia.org/resource/George_Washington',\n",
       "  'http://www.w3.org/1999/02/22-rdf-syntax-ns#type',\n",
       "  'http://schema.org/Person'),\n",
       " ('http://dbpedia.org/resource/George_Washington',\n",
       "  'http://www.w3.org/1999/02/22-rdf-syntax-ns#type',\n",
       "  'http://www.ontologydesignpatterns.org/ont/dul/DUL.owl#Agent'),\n",
       " ('http://dbpedia.org/resource/George_Washington',\n",
       "  'http://www.w3.org/1999/02/22-rdf-syntax-ns#type',\n",
       "  'http://www.ontologydesignpatterns.org/ont/dul/DUL.owl#NaturalPerson'),\n",
       " ('http://dbpedia.org/resource/George_Washington',\n",
       "  'http://www.w3.org/1999/02/22-rdf-syntax-ns#type',\n",
       "  'http://www.w3.org/2002/07/owl#Thing'),\n",
       " ('http://dbpedia.org/resource/George_Washington',\n",
       "  'http://www.w3.org/1999/02/22-rdf-syntax-ns#type',\n",
       "  'http://www.wikidata.org/entity/Q215627'),\n",
       " ('http://dbpedia.org/resource/George_Washington',\n",
       "  'http://www.w3.org/1999/02/22-rdf-syntax-ns#type',\n",
       "  'http://www.wikidata.org/entity/Q24229398'),\n",
       " ('http://dbpedia.org/resource/George_Washington',\n",
       "  'http://www.w3.org/1999/02/22-rdf-syntax-ns#type',\n",
       "  'http://www.wikidata.org/entity/Q5'),\n",
       " ('http://dbpedia.org/resource/George_Washington',\n",
       "  'http://www.w3.org/1999/02/22-rdf-syntax-ns#type',\n",
       "  'http://xmlns.com/foaf/0.1/Person')]"
      ]
     },
     "execution_count": 150,
     "metadata": {},
     "output_type": "execute_result"
    }
   ],
   "source": [
    "get_classes('George Washington')"
   ]
  },
  {
   "cell_type": "markdown",
   "metadata": {},
   "source": [
    "So that's entity recognition and further on in `SemanticEngine.get_dataset_classes` choose most common class etc."
   ]
  },
  {
   "cell_type": "markdown",
   "metadata": {},
   "source": [
    "### Class corespondances"
   ]
  },
  {
   "cell_type": "code",
   "execution_count": 151,
   "metadata": {},
   "outputs": [
    {
     "data": {
      "text/plain": [
       "\u001b[0;31mSignature:\u001b[0m \u001b[0mSemanticEngine\u001b[0m\u001b[0;34m.\u001b[0m\u001b[0mget_class_correspondance\u001b[0m\u001b[0;34m(\u001b[0m\u001b[0mclss\u001b[0m\u001b[0;34m,\u001b[0m \u001b[0mlanguage\u001b[0m\u001b[0;34m=\u001b[0m\u001b[0;34m'en'\u001b[0m\u001b[0;34m)\u001b[0m\u001b[0;34m\u001b[0m\u001b[0;34m\u001b[0m\u001b[0m\n",
       "\u001b[0;31mDocstring:\u001b[0m <no docstring>\n",
       "\u001b[0;31mSource:\u001b[0m   \n",
       "\u001b[0;32mdef\u001b[0m \u001b[0mget_class_correspondance\u001b[0m\u001b[0;34m(\u001b[0m\u001b[0mclss\u001b[0m\u001b[0;34m,\u001b[0m \u001b[0mlanguage\u001b[0m\u001b[0;34m=\u001b[0m\u001b[0;34m'en'\u001b[0m\u001b[0;34m)\u001b[0m\u001b[0;34m:\u001b[0m\u001b[0;34m\u001b[0m\n",
       "\u001b[0;34m\u001b[0m    \u001b[0mresponse\u001b[0m \u001b[0;34m=\u001b[0m \u001b[0;34m{\u001b[0m\u001b[0;34m'uri'\u001b[0m\u001b[0;34m:\u001b[0m \u001b[0;34m''\u001b[0m\u001b[0;34m,\u001b[0m \u001b[0;34m'class'\u001b[0m\u001b[0;34m:\u001b[0m \u001b[0mclss\u001b[0m\u001b[0;34m,\u001b[0m \u001b[0;34m'description'\u001b[0m\u001b[0;34m:\u001b[0m \u001b[0mclss\u001b[0m\u001b[0;34m,\u001b[0m \u001b[0;34m'sub'\u001b[0m\u001b[0;34m:\u001b[0m \u001b[0;34m[\u001b[0m\u001b[0;34m]\u001b[0m\u001b[0;34m,\u001b[0m \u001b[0;34m'eq'\u001b[0m\u001b[0;34m:\u001b[0m \u001b[0;34m[\u001b[0m\u001b[0;34m]\u001b[0m\u001b[0;34m}\u001b[0m\u001b[0;34m\u001b[0m\n",
       "\u001b[0;34m\u001b[0m    \u001b[0mlov_results\u001b[0m \u001b[0;34m=\u001b[0m \u001b[0mLovApi\u001b[0m\u001b[0;34m.\u001b[0m\u001b[0mterm_request\u001b[0m\u001b[0;34m(\u001b[0m\u001b[0mclss\u001b[0m\u001b[0;34m,\u001b[0m \u001b[0mterm_type\u001b[0m\u001b[0;34m=\u001b[0m\u001b[0;34m'class'\u001b[0m\u001b[0;34m,\u001b[0m \u001b[0mlanguage\u001b[0m\u001b[0;34m=\u001b[0m\u001b[0mlanguage\u001b[0m\u001b[0;34m)\u001b[0m\u001b[0;34m[\u001b[0m\u001b[0;34m\"records\"\u001b[0m\u001b[0;34m]\u001b[0m\u001b[0;34m\u001b[0m\n",
       "\u001b[0;34m\u001b[0m    \u001b[0;32mfor\u001b[0m \u001b[0mlov_result\u001b[0m \u001b[0;32min\u001b[0m \u001b[0mlov_results\u001b[0m\u001b[0;34m:\u001b[0m\u001b[0;34m\u001b[0m\n",
       "\u001b[0;34m\u001b[0m        \u001b[0mlov_result\u001b[0m \u001b[0;34m=\u001b[0m \u001b[0mlov_result\u001b[0m\u001b[0;34m[\u001b[0m\u001b[0;34m'record'\u001b[0m\u001b[0;34m]\u001b[0m\u001b[0;34m\u001b[0m\n",
       "\u001b[0;34m\u001b[0m        \u001b[0;32mif\u001b[0m \u001b[0mis_valid\u001b[0m\u001b[0;34m(\u001b[0m\u001b[0mlov_result\u001b[0m\u001b[0;34m)\u001b[0m\u001b[0;34m:\u001b[0m\u001b[0;34m\u001b[0m\n",
       "\u001b[0;34m\u001b[0m            \u001b[0mresponse\u001b[0m\u001b[0;34m[\u001b[0m\u001b[0;34m'uri'\u001b[0m\u001b[0;34m]\u001b[0m \u001b[0;34m=\u001b[0m \u001b[0mlov_result\u001b[0m\u001b[0;34m[\u001b[0m\u001b[0;34m'fields'\u001b[0m\u001b[0;34m]\u001b[0m\u001b[0;34m[\u001b[0m\u001b[0;34m'uri'\u001b[0m\u001b[0;34m]\u001b[0m\u001b[0;34m\u001b[0m\n",
       "\u001b[0;34m\u001b[0m            \u001b[0;32mif\u001b[0m \u001b[0mlov_result\u001b[0m\u001b[0;34m[\u001b[0m\u001b[0;34m'fields'\u001b[0m\u001b[0;34m]\u001b[0m\u001b[0;34m[\u001b[0m\u001b[0;34m'description'\u001b[0m\u001b[0;34m]\u001b[0m \u001b[0;32mand\u001b[0m \u001b[0mlen\u001b[0m\u001b[0;34m(\u001b[0m\u001b[0mlov_result\u001b[0m\u001b[0;34m[\u001b[0m\u001b[0;34m'fields'\u001b[0m\u001b[0;34m]\u001b[0m\u001b[0;34m[\u001b[0m\u001b[0;34m'description'\u001b[0m\u001b[0;34m]\u001b[0m\u001b[0;34m)\u001b[0m \u001b[0;34m<\u001b[0m \u001b[0;36m40\u001b[0m\u001b[0;34m:\u001b[0m\u001b[0;34m\u001b[0m\n",
       "\u001b[0;34m\u001b[0m                \u001b[0mcleaned_description\u001b[0m \u001b[0;34m=\u001b[0m \u001b[0mBeautifulSoup\u001b[0m\u001b[0;34m(\u001b[0m\u001b[0mlov_result\u001b[0m\u001b[0;34m[\u001b[0m\u001b[0;34m'fields'\u001b[0m\u001b[0;34m]\u001b[0m\u001b[0;34m[\u001b[0m\u001b[0;34m'description'\u001b[0m\u001b[0;34m]\u001b[0m\u001b[0;34m,\u001b[0m \u001b[0;34m\"html5lib\"\u001b[0m\u001b[0;34m)\u001b[0m\u001b[0;34m.\u001b[0m\u001b[0mget_text\u001b[0m\u001b[0;34m(\u001b[0m\u001b[0;34m)\u001b[0m\u001b[0;34m.\u001b[0m\u001b[0mencode\u001b[0m\u001b[0;34m(\u001b[0m\u001b[0;34m'utf8'\u001b[0m\u001b[0;34m)\u001b[0m\u001b[0;34m\u001b[0m\n",
       "\u001b[0;34m\u001b[0m                \u001b[0mresponse\u001b[0m\u001b[0;34m[\u001b[0m\u001b[0;34m'description'\u001b[0m\u001b[0;34m]\u001b[0m \u001b[0;34m=\u001b[0m \u001b[0mcleaned_description\u001b[0m\u001b[0;34m\u001b[0m\n",
       "\u001b[0;34m\u001b[0m            \u001b[0;32melif\u001b[0m \u001b[0mlov_result\u001b[0m\u001b[0;34m[\u001b[0m\u001b[0;34m'fields'\u001b[0m\u001b[0;34m]\u001b[0m\u001b[0;34m[\u001b[0m\u001b[0;34m'label'\u001b[0m\u001b[0;34m]\u001b[0m\u001b[0;34m:\u001b[0m\u001b[0;34m\u001b[0m\n",
       "\u001b[0;34m\u001b[0m                \u001b[0mcleaned_description\u001b[0m \u001b[0;34m=\u001b[0m \u001b[0mBeautifulSoup\u001b[0m\u001b[0;34m(\u001b[0m\u001b[0mlov_result\u001b[0m\u001b[0;34m[\u001b[0m\u001b[0;34m'fields'\u001b[0m\u001b[0;34m]\u001b[0m\u001b[0;34m[\u001b[0m\u001b[0;34m'label'\u001b[0m\u001b[0;34m]\u001b[0m\u001b[0;34m,\u001b[0m \u001b[0;34m\"html5lib\"\u001b[0m\u001b[0;34m)\u001b[0m\u001b[0;34m.\u001b[0m\u001b[0mget_text\u001b[0m\u001b[0;34m(\u001b[0m\u001b[0;34m)\u001b[0m\u001b[0;34m.\u001b[0m\u001b[0mencode\u001b[0m\u001b[0;34m(\u001b[0m\u001b[0;34m'utf8'\u001b[0m\u001b[0;34m)\u001b[0m\u001b[0;34m\u001b[0m\n",
       "\u001b[0;34m\u001b[0m                \u001b[0mresponse\u001b[0m\u001b[0;34m[\u001b[0m\u001b[0;34m'description'\u001b[0m\u001b[0;34m]\u001b[0m \u001b[0;34m=\u001b[0m \u001b[0mcleaned_description\u001b[0m\u001b[0;34m\u001b[0m\n",
       "\u001b[0;34m\u001b[0m            \u001b[0;32mif\u001b[0m \u001b[0mlov_result\u001b[0m\u001b[0;34m[\u001b[0m\u001b[0;34m'fields'\u001b[0m\u001b[0;34m]\u001b[0m\u001b[0;34m[\u001b[0m\u001b[0;34m'sub_classes'\u001b[0m\u001b[0;34m]\u001b[0m\u001b[0;34m:\u001b[0m\u001b[0;34m\u001b[0m\n",
       "\u001b[0;34m\u001b[0m                \u001b[0mresponse\u001b[0m\u001b[0;34m[\u001b[0m\u001b[0;34m'sub'\u001b[0m\u001b[0;34m]\u001b[0m \u001b[0;34m=\u001b[0m \u001b[0mlov_result\u001b[0m\u001b[0;34m[\u001b[0m\u001b[0;34m'fields'\u001b[0m\u001b[0;34m]\u001b[0m\u001b[0;34m[\u001b[0m\u001b[0;34m'sub_classes'\u001b[0m\u001b[0;34m]\u001b[0m\u001b[0;34m\u001b[0m\n",
       "\u001b[0;34m\u001b[0m            \u001b[0;32mif\u001b[0m \u001b[0mlov_result\u001b[0m\u001b[0;34m[\u001b[0m\u001b[0;34m'fields'\u001b[0m\u001b[0;34m]\u001b[0m\u001b[0;34m[\u001b[0m\u001b[0;34m'equivalent_classes'\u001b[0m\u001b[0;34m]\u001b[0m\u001b[0;34m:\u001b[0m\u001b[0;34m\u001b[0m\n",
       "\u001b[0;34m\u001b[0m                \u001b[0mresponse\u001b[0m\u001b[0;34m[\u001b[0m\u001b[0;34m'eq'\u001b[0m\u001b[0;34m]\u001b[0m \u001b[0;34m=\u001b[0m \u001b[0mlov_result\u001b[0m\u001b[0;34m[\u001b[0m\u001b[0;34m'fields'\u001b[0m\u001b[0;34m]\u001b[0m\u001b[0;34m[\u001b[0m\u001b[0;34m'equivalent_classes'\u001b[0m\u001b[0;34m]\u001b[0m\u001b[0;34m\u001b[0m\n",
       "\u001b[0;34m\u001b[0m            \u001b[0;32mreturn\u001b[0m \u001b[0mresponse\u001b[0m\u001b[0;34m\u001b[0m\n",
       "\u001b[0;34m\u001b[0m    \u001b[0;32mreturn\u001b[0m \u001b[0;32mNone\u001b[0m\u001b[0;34m\u001b[0m\u001b[0;34m\u001b[0m\u001b[0m\n",
       "\u001b[0;31mFile:\u001b[0m      ~/git/ontmap/chatbot/semantic_engine.py\n",
       "\u001b[0;31mType:\u001b[0m      function\n"
      ]
     },
     "metadata": {},
     "output_type": "display_data"
    }
   ],
   "source": [
    "SemanticEngine.get_class_correspondance??"
   ]
  },
  {
   "cell_type": "code",
   "execution_count": 160,
   "metadata": {},
   "outputs": [
    {
     "name": "stdout",
     "output_type": "stream",
     "text": [
      "subject_query=\"http://dbpedia.org/resource/Rome\"\n",
      "common_class = ('http://dbpedia.org/resource/Rome', 'http://www.w3.org/1999/02/22-rdf-syntax-ns#type', 'http://dbpedia.org/ontology/Location')\n"
     ]
    }
   ],
   "source": [
    "classes = get_classes('Rome')\n",
    "common_class = Counter(classes).most_common(1)[0][0]\n",
    "common_class = smart_str(common_class)\n",
    "print('common_class =', common_class)\n",
    "class_correspondance = SemanticEngine.get_class_correspondance(common_class)\n",
    "class_correspondance"
   ]
  },
  {
   "cell_type": "code",
   "execution_count": 163,
   "metadata": {},
   "outputs": [],
   "source": [
    "lov_result = LovApi.term_request(common_class)"
   ]
  },
  {
   "cell_type": "markdown",
   "metadata": {},
   "source": [
    "See: http://lov.okfn.org/dataset/lov/api/v2/term/search?q=('http%3A%2F%2Fdbpedia.org%2Fresource%2FRome'%2C%20'http%3A%2F%2Fwww.w3.org%2F1999%2F02%2F22-rdf-syntax-ns%23type'%2C%20'http%3A%2F%2Fdbpedia.org%2Fontology%2FLocation')&type=class"
   ]
  },
  {
   "cell_type": "code",
   "execution_count": null,
   "metadata": {},
   "outputs": [],
   "source": []
  }
 ],
 "metadata": {
  "kernelspec": {
   "display_name": "Python 3",
   "language": "python",
   "name": "python3"
  },
  "language_info": {
   "codemirror_mode": {
    "name": "ipython",
    "version": 3
   },
   "file_extension": ".py",
   "mimetype": "text/x-python",
   "name": "python",
   "nbconvert_exporter": "python",
   "pygments_lexer": "ipython3",
   "version": "3.6.8"
  },
  "toc-autonumbering": true
 },
 "nbformat": 4,
 "nbformat_minor": 2
}
